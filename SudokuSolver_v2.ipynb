{
 "cells": [
  {
   "cell_type": "code",
   "execution_count": 1,
   "metadata": {},
   "outputs": [
    {
     "name": "stdout",
     "output_type": "stream",
     "text": [
      "[[5 3 0 0 7 0 0 0 0]\n",
      " [6 0 0 1 9 5 0 0 0]\n",
      " [0 9 8 0 0 0 0 6 0]\n",
      " [8 0 0 0 6 0 0 0 3]\n",
      " [4 0 0 8 0 3 0 0 1]\n",
      " [7 0 0 0 2 0 0 0 6]\n",
      " [0 6 0 0 0 0 2 8 0]\n",
      " [0 0 0 4 1 9 0 0 5]\n",
      " [0 0 0 0 8 0 0 7 9]]\n",
      " \n",
      "[[5 3 2 6 7 4 9 1 8]\n",
      " [6 7 3 1 9 5 8 4 2]\n",
      " [1 9 8 3 4 2 5 6 7]\n",
      " [8 5 9 7 6 1 4 2 3]\n",
      " [4 2 6 8 5 3 7 9 1]\n",
      " [7 1 4 9 2 8 3 5 6]\n",
      " [9 6 1 5 3 7 2 8 4]\n",
      " [2 8 7 4 1 9 6 3 5]\n",
      " [3 4 5 2 8 6 1 7 9]]\n",
      " \n",
      "[[5 3 4 6 7 2 1 9 8]\n",
      " [6 2 3 1 9 5 8 4 7]\n",
      " [3 9 8 7 4 1 5 6 2]\n",
      " [8 1 9 2 6 4 7 5 3]\n",
      " [4 7 6 8 5 3 9 2 1]\n",
      " [7 4 5 9 2 8 3 1 6]\n",
      " [9 6 1 5 3 7 2 8 4]\n",
      " [2 8 7 4 1 9 6 3 5]\n",
      " [1 5 2 3 8 6 4 7 9]]\n",
      " \n",
      "[[5 3 4 6 7 8 9 1 2]\n",
      " [6 7 2 1 9 5 3 4 8]\n",
      " [1 9 8 3 4 2 5 6 7]\n",
      " [8 5 9 7 6 1 4 2 3]\n",
      " [4 2 6 8 5 3 7 9 1]\n",
      " [7 1 3 9 2 4 8 5 6]\n",
      " [9 6 1 5 3 7 2 8 4]\n",
      " [2 8 7 4 1 9 6 3 5]\n",
      " [3 4 5 2 8 6 1 7 9]]\n",
      " \n",
      "[[5 3 4 6 7 8 9 1 2]\n",
      " [6 7 2 1 9 5 3 4 8]\n",
      " [1 9 8 3 4 2 5 6 7]\n",
      " [8 5 9 7 6 4 1 2 3]\n",
      " [4 2 6 8 5 3 7 9 1]\n",
      " [7 4 3 9 2 1 8 5 6]\n",
      " [9 6 1 5 3 7 2 8 4]\n",
      " [2 8 7 4 1 9 6 3 5]\n",
      " [3 1 5 2 8 6 4 7 9]]\n",
      " \n"
     ]
    }
   ],
   "source": [
    "### Resource: https://www.youtube.com/watch?v=G_UYXzGuqvM&t=564s\n",
    "import numpy as np\n",
    "\n",
    "sudoku = np.matrix([[5, 3, 0,    0, 7, 0,    0, 0, 0],\n",
    "                    [6, 0, 0,    1, 9, 5,    0, 0, 0],\n",
    "                    [0, 9, 8,    0, 0, 0,    0, 6, 0],\n",
    "                     \n",
    "                    [8, 0, 0,    0, 6, 0,    0, 0, 3],\n",
    "                    [4, 0, 0,    8, 0, 3,    0, 0, 1],\n",
    "                    [7, 0, 0,    0, 2, 0,    0, 0, 6],\n",
    "                     \n",
    "                    [0, 6, 0,    0, 0, 0,    2, 8, 0],\n",
    "                    [0, 0, 0,    4, 1, 9,    0, 0, 5],\n",
    "                    [0, 0, 0,    0, 8, 0,    0, 7, 9]])\n",
    "\n",
    "####### DETERMINE IF VALUE (n) WORKS IN A SPECIFIC LOCATION ON GRID (x,y) #######\n",
    "def possible_value(x, y, n):\n",
    "    global sudoku\n",
    "    \n",
    "    ####### VALIDATE IF n DOES NOT WORK IN ANY ROW #######\n",
    "    for i in range(0,9):\n",
    "        if sudoku[i, y] == n:\n",
    "            return False\n",
    "\n",
    "    ####### VALIDATE IF n DOES NOT WORK IN ANY COL #######\n",
    "    for i in range(0,9):\n",
    "        if sudoku[x, i] == n:\n",
    "            return False\n",
    "    \n",
    "    ####### VALIDATE IF n DOES NOT WORK IN ANY BOX #######\n",
    "    xO = (x//3)*3\n",
    "    yO = (y//3)*3\n",
    "    for i in range(0,3):\n",
    "        for j in range(0,3):\n",
    "            if sudoku[(xO+i), (yO+i)] == n:\n",
    "                return False\n",
    "    \n",
    "    return True        \n",
    "        \n",
    "\n",
    "def solve():\n",
    "    global sudoku\n",
    "    for x in range(9):\n",
    "        for y in range(9):\n",
    "            if sudoku[x, y] == 0:\n",
    "                #print(str(x)+' '+str(y))\n",
    "                for n in range(1,10):\n",
    "                    #print(str(x)+' '+str(y)+' '+str(n))\n",
    "                    if possible_value(x, y, n):\n",
    "                        sudoku[x, y]=n\n",
    "                        solve()\n",
    "                        sudoku[x, y]=0\n",
    "                        \n",
    "                return\n",
    "    print(sudoku)\n",
    "    print(' ')\n",
    "print(sudoku) \n",
    "print(' ')\n",
    "solve()\n"
   ]
  },
  {
   "cell_type": "code",
   "execution_count": 201,
   "metadata": {},
   "outputs": [
    {
     "ename": "SyntaxError",
     "evalue": "invalid syntax (<ipython-input-201-f2b9db437b47>, line 3)",
     "output_type": "error",
     "traceback": [
      "\u001b[1;36m  File \u001b[1;32m\"<ipython-input-201-f2b9db437b47>\"\u001b[1;36m, line \u001b[1;32m3\u001b[0m\n\u001b[1;33m    try output2[point[0][0], point[0][1]] =\u001b[0m\n\u001b[1;37m              ^\u001b[0m\n\u001b[1;31mSyntaxError\u001b[0m\u001b[1;31m:\u001b[0m invalid syntax\n"
     ]
    }
   ],
   "source": [
    "output2 = output.copy()\n",
    "for point in options_list:\n",
    "    try output2[point[0][0], point[0][1]] = \n",
    "    \n",
    "    "
   ]
  },
  {
   "cell_type": "code",
   "execution_count": null,
   "metadata": {},
   "outputs": [],
   "source": []
  }
 ],
 "metadata": {
  "kernelspec": {
   "display_name": "Python 3",
   "language": "python",
   "name": "python3"
  },
  "language_info": {
   "codemirror_mode": {
    "name": "ipython",
    "version": 3
   },
   "file_extension": ".py",
   "mimetype": "text/x-python",
   "name": "python",
   "nbconvert_exporter": "python",
   "pygments_lexer": "ipython3",
   "version": "3.7.4"
  }
 },
 "nbformat": 4,
 "nbformat_minor": 2
}
